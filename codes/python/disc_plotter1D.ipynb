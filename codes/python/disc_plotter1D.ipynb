{
 "cells": [
  {
   "cell_type": "markdown",
   "metadata": {},
   "source": [
    "# **cuDisc plotting example notebook**\n",
    "\n",
    "This notebook shows how to use the file in/out functions (stored in fileIO.py) for cuDisc.\n",
    "\n",
    "To run the cpp files, move to the cuDisc directory and use the commands\n",
    "\n",
    "    make *\n",
    "\n",
    "then\n",
    "\n",
    "    ./*\n",
    "\n",
    "replacing * with the desired code, without the extension (e.g. 1Ddisc, not 1Ddisc.cpp). This command will work for any codes in the /codes folder. The two example codes will generate outputs in the codes directory.\n",
    "\n",
    "\n"
   ]
  },
  {
   "cell_type": "code",
   "execution_count": null,
   "metadata": {},
   "outputs": [],
   "source": [
    "from fileIO import *\n",
    "from constants import *\n",
    "import numpy as np\n",
    "import matplotlib.pyplot as plt\n",
    "\"\"\"\n",
    "Import and plot 1D run (1Ddisc.cpp)\n",
    "\"\"\"\n",
    "\n",
    "sim = CuDiscModel(\"../outputs/1Ddisc\")\n",
    "\n",
    "g = sim.grid\n",
    "Sig_g, Sig_d, v_d, v_g = sim.load1Drun()\n",
    "\n",
    "plt.figure(figsize=(6,4))\n",
    "for i in range(0,Sig_d.shape[0]):\n",
    "    plt.loglog(g.R_c/au, Sig_d[i,:], color = 'b', alpha = 0.1 + i*0.9/Sig_d.shape[0])\n",
    "    plt.loglog(g.R_c/au, Sig_g[i,:], color = 'g', alpha = 0.1 + i*0.9/Sig_d.shape[0])\n",
    "\n",
    "plt.xlim(0.1,1000)\n",
    "plt.ylim(1e-4,10000)\n",
    "plt.ylabel(r\"Surface density (g cm$^{-2}$)\")\n",
    "plt.xlabel(\"Radius (AU)\")"
   ]
  },
  {
   "cell_type": "code",
   "execution_count": null,
   "metadata": {},
   "outputs": [],
   "source": [
    "\"\"\"\n",
    "Import and plot 1D run multi-grain run (1Ddisc_multgrain.cpp)\n",
    "\"\"\"\n",
    "\n",
    "sim = CuDiscModel(\"../outputs/1Ddisc_multgrain/\")\n",
    "\n",
    "g = sim.grid\n",
    "gas, dust = sim.load_all_dens1D_data()\n",
    "sizes = sim.load_grain_sizes()"
   ]
  },
  {
   "cell_type": "code",
   "execution_count": null,
   "metadata": {},
   "outputs": [],
   "source": [
    "plt.figure(figsize=(6,4))\n",
    "for i in range(0,dust.Sigma.shape[0]):\n",
    "    if i == dust.Sigma.shape[0]-1:\n",
    "        plt.loglog(g.R_c/au, dust.Sigma[i,:,20], color = 'r', alpha = 0.1 + i*0.9/dust.Sigma.shape[0], label='%1.1f micron'%(sizes.a_c[20]*1e4))\n",
    "        plt.loglog(g.R_c/au, dust.Sigma[i,:,110], color = 'b', alpha = 0.1 + i*0.9/dust.Sigma.shape[0], label='%1.1f cm'%(sizes.a_c[110]))\n",
    "        plt.loglog(g.R_c/au, dust.Sigma[i].sum(-1), color = 'black', alpha = 0.1 + i*0.9/dust.Sigma.shape[0], label='Dust total')\n",
    "        plt.loglog(g.R_c/au, gas.Sigma[i], color = 'g', alpha = 0.1 + i*0.9/dust.Sigma.shape[0], label='Gas')\n",
    "    else:\n",
    "        plt.loglog(g.R_c/au, dust.Sigma[i,:,20], color = 'r', alpha = 0.1 + i*0.9/dust.Sigma.shape[0])\n",
    "        plt.loglog(g.R_c/au, dust.Sigma[i,:,110], color = 'b', alpha = 0.1 + i*0.9/dust.Sigma.shape[0])\n",
    "        plt.loglog(g.R_c/au, dust.Sigma[i].sum(-1), color = 'black', alpha = 0.1 + i*0.9/dust.Sigma.shape[0])\n",
    "        plt.loglog(g.R_c/au, gas.Sigma[i], color = 'g', alpha = 0.1 + i*0.9/dust.Sigma.shape[0])\n",
    "\n",
    "plt.xlim(1,1000)\n",
    "plt.ylim(1e-6,10000)\n",
    "plt.ylabel(r\"Surface density (g cm$^{-2}$)\")\n",
    "plt.xlabel(\"Radius (AU)\")\n",
    "plt.legend()"
   ]
  },
  {
   "cell_type": "code",
   "execution_count": null,
   "metadata": {},
   "outputs": [],
   "source": [
    "plt.figure(figsize=(6,4))\n",
    "for i in range(0,dust.Sigma.shape[0]):\n",
    "    if i == dust.Sigma.shape[0]-1:\n",
    "        plt.semilogx(g.R_c/au, dust.vR[i,:,20], color = 'r', alpha = 0.1 + i*0.9/dust.Sigma.shape[0], label='%1.1f micron'%(sizes.a_c[20]*1e4))\n",
    "        plt.semilogx(g.R_c/au, dust.vR[i,:,110], color = 'b', alpha = 0.1 + i*0.9/dust.Sigma.shape[0], label='%1.1f cm'%(sizes.a_c[110]))\n",
    "        plt.semilogx(g.R_c/au, gas.vR[i], color = 'g', alpha = 0.1 + i*0.9/dust.Sigma.shape[0], label='Gas')\n",
    "    else:\n",
    "        plt.semilogx(g.R_c/au, dust.vR[i,:,20], color = 'r', alpha = 0.1 + i*0.9/dust.Sigma.shape[0])\n",
    "        plt.semilogx(g.R_c/au, dust.vR[i,:,110], color = 'b', alpha = 0.1 + i*0.9/dust.Sigma.shape[0])\n",
    "        plt.semilogx(g.R_c/au, gas.vR[i], color = 'g', alpha = 0.1 + i*0.9/dust.Sigma.shape[0])\n",
    "\n",
    "plt.xlim(1,1000)\n",
    "plt.ylim(-100,100)\n",
    "plt.ylabel(r\"Radial velocity (cm s$^{-1}$)\")\n",
    "plt.xlabel(\"Radius (AU)\")\n",
    "plt.legend()"
   ]
  },
  {
   "cell_type": "code",
   "execution_count": null,
   "metadata": {},
   "outputs": [],
   "source": [
    "# Plot grain size distribution\n",
    "\n",
    "R_a_grid, a_R_grid = np.meshgrid(g.R_c[2:-2], sizes.a_c, indexing='ij')\n",
    "\n",
    "t_snaps = [-3,-2,-1]\n",
    "\n",
    "fig, ax = plt.subplots(1, len(t_snaps), figsize = (5*len(t_snaps),4), sharex=True)\n",
    "\n",
    "for i, ti in enumerate(t_snaps):\n",
    "    con = ax[i].contourf(R_a_grid/au, a_R_grid, np.log10(dust.Sigma[ti,2:-2,:]+1e-100),np.linspace(-7,0,40), extend='both')\n",
    "    ax[i].set_xlabel(\"Radius (AU)\")\n",
    "    ax[i].set_ylim(1e-5,10)\n",
    "    ax[i].set_yscale('log')\n",
    "\n",
    "ax[0].set_ylabel(\"Grain size (cm)\")\n",
    "plt.xscale('log')\n",
    "\n",
    "plt.xlim(1,1000)\n",
    "fig.subplots_adjust(right=0.8)\n",
    "cbar_ax = fig.add_axes([0.82, 0.14, 0.02, 0.7])\n",
    "cbar = fig.colorbar(con, cax=cbar_ax)\n",
    "cbar.set_ticks(np.arange(-7,2,2))\n",
    "cbar.set_ticklabels([\"$10^{%d}$\"%(x) for x in np.arange(-7,2,2)])\n",
    "cbar.set_label(r\"Dust surface density (g cm$^{-2}$)\")\n",
    "\n",
    "plt.show()\n",
    "    "
   ]
  }
 ],
 "metadata": {
  "kernelspec": {
   "display_name": "Python 3 (ipykernel)",
   "language": "python",
   "name": "python3"
  },
  "language_info": {
   "codemirror_mode": {
    "name": "ipython",
    "version": 3
   },
   "file_extension": ".py",
   "mimetype": "text/x-python",
   "name": "python",
   "nbconvert_exporter": "python",
   "pygments_lexer": "ipython3",
   "version": "3.9.7"
  }
 },
 "nbformat": 4,
 "nbformat_minor": 2
}
